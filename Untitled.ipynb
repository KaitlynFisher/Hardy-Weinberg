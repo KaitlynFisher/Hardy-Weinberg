{
 "cells": [
  {
   "cell_type": "code",
   "execution_count": 1,
   "metadata": {
    "collapsed": false
   },
   "outputs": [
    {
     "ename": "SyntaxError",
     "evalue": "invalid syntax (<ipython-input-1-83f7ec0ed8db>, line 1)",
     "output_type": "error",
     "traceback": [
      "\u001b[0;36m  File \u001b[0;32m\"<ipython-input-1-83f7ec0ed8db>\"\u001b[0;36m, line \u001b[0;32m1\u001b[0m\n\u001b[0;31m    The Hardy Weinberg principle states that if the allele and genotype frequencies of a population remain unchanged\u001b[0m\n\u001b[0m            ^\u001b[0m\n\u001b[0;31mSyntaxError\u001b[0m\u001b[0;31m:\u001b[0m invalid syntax\n"
     ]
    }
   ],
   "source": [
    "The Hardy Weinberg principle states that if the allele and genotype frequencies of a population remain unchanged \n",
    "from generation to generation, the population is in equilibrium and not evolving. To calculate the allele and genotype \n",
    "frequencies of a population, we use the Hardy-Weinberg Equilibrium equation (p2 + 2pq + q2 = 1). In this activity, \n",
    "you will learn how to solve Hardy-Weinberg problems and create a program to help you solve them. \n",
    "\n",
    "In the Hardy-Weinberg equation:\n",
    "“p” = the number of dominant alleles in a population (e.g. A)\n",
    "“q” = the number of recessive alleles in a population (e.g. a) \n",
    "p + q must = 1.\n",
    "\n",
    "Coding is amazing in the fact that it can calculate the variables if you input the values for the equation.\n",
    "Let's try something. I know you're all fascinated but let's start with the basics. Let's make words appear on the screen. \n",
    "When you want a specific phrase to appear on your screen, the word \"print\" should be in front of it followed by parenthesis and quotation \n",
    "marks. The word or phrase of interest should be inside the parenthesis and quotation marks following the word \"print\".\n",
    "In order to execute the function, you press shift+enter on the line of interest. \n",
    "Try shift+enter on the example below!\n",
    "\n",
    "Here's an example listed below, try shift+enter on the line to execute function:\n"
   ]
  },
  {
   "cell_type": "code",
   "execution_count": 3,
   "metadata": {
    "collapsed": false
   },
   "outputs": [
    {
     "name": "stdout",
     "output_type": "stream",
     "text": [
      "Greetings Alien Species, I come in peace!\n"
     ]
    }
   ],
   "source": [
    "print(\"Greetings Alien Species, I come in peace!\") #the phrase will show up below this line\n"
   ]
  },
  {
   "cell_type": "code",
   "execution_count": null,
   "metadata": {
    "collapsed": true
   },
   "outputs": [],
   "source": [
    "Now that we have some basic skills down, let’s try something a bit more difficult. \n",
    "We are going to learn how to type equations and use them.\n",
    "Each variable has to be given a value so the function knows what values to assign each variable such as \"aliens=10\".\n",
    "And let's say there are 2 species or \"species=2\"\n",
    "How would you find out the total using code? Let me show you!\n",
    "The next thing is to make the equation and give it a name so the code knows what values to use when you input the name. \n",
    "Example:\n",
    "total=aliens * species\n",
    "If you want the code to print the phrase \"total aliens is\" just follow the instructions you learned when you greeted the aliens.\n",
    "Now you have to type \"print\" followed with \"total\" in parenthesis to tell the computer to calculate the equation.\n",
    "\n",
    "So your new code for a simple equation would look a little something like what's listed in the next line below. Again try to \n",
    "execute the function by pressing shift+enter on the line\n",
    "\n",
    "\n",
    "\n"
   ]
  },
  {
   "cell_type": "code",
   "execution_count": 4,
   "metadata": {
    "collapsed": false
   },
   "outputs": [
    {
     "name": "stdout",
     "output_type": "stream",
     "text": [
      "total aliens is\n",
      "20\n"
     ]
    }
   ],
   "source": [
    "aliens=10\n",
    "species=2\n",
    "total=aliens * species\n",
    "\n",
    "print(\"total aliens is\")\n",
    "print(total)"
   ]
  },
  {
   "cell_type": "code",
   "execution_count": null,
   "metadata": {
    "collapsed": true
   },
   "outputs": [],
   "source": [
    "Alright let's get down to business.\n",
    "I imagine that you probably get the idea of how to type the Hardy Weinberg Equation in code, right?\n",
    "Well I'll walk you through it anyways even though you're all such great coding masters.\n",
    "So let's say there are two types of alien genes. One for big octangular heads, and the other for triangle heads. \n",
    "Let's say \"p\" represents octangular heads and \"q\" represents triangle heads. \n",
    "Alright solve this example:\n",
    "On planet Geometrus, Octangulites and Triangulites have been interbreeding and wondered whether or not one\n",
    "type of offspring will outnumber the other. It's up to you, the human from Earth to solve their curiosity.\n",
    "So first we have to assign values to variables. \"p=10\" and \"q=5\"\n",
    "Then we have to type the equation and assign it a name. \"HardyWeinbergEquilibrium = p ** 2 + 2 * p * q +  q ** 2\"\n",
    "Now we have to use the print feature in order for the code to execute out calculations for us. The fate of Geometrus's curiousity is in \n",
    "your hands young Earthling. \n",
    "\n",
    "If you did it correctly, it should look like whats listed on the next line! Try executing the function with shift+enter!"
   ]
  },
  {
   "cell_type": "code",
   "execution_count": 6,
   "metadata": {
    "collapsed": false
   },
   "outputs": [
    {
     "name": "stdout",
     "output_type": "stream",
     "text": [
      "HardyWeinbergEquilibrium is\n",
      "225\n"
     ]
    }
   ],
   "source": [
    "p = 10\n",
    "q = 5\n",
    "HardyWeinbergEquilibrium = p ** 2 + 2 * p * q +  q ** 2\n",
    "\n",
    "print(\"HardyWeinbergEquilibrium is\")\n",
    "print(HardyWeinbergEquilibrium)"
   ]
  },
  {
   "cell_type": "code",
   "execution_count": null,
   "metadata": {
    "collapsed": true
   },
   "outputs": [],
   "source": [
    "Now you are done and can report the findings, Congratulations you have used code to solve for Hardy-Weinberg's Equilibrium!"
   ]
  }
 ],
 "metadata": {
  "anaconda-cloud": {},
  "kernelspec": {
   "display_name": "Python [default]",
   "language": "python",
   "name": "python3"
  },
  "language_info": {
   "codemirror_mode": {
    "name": "ipython",
    "version": 3
   },
   "file_extension": ".py",
   "mimetype": "text/x-python",
   "name": "python",
   "nbconvert_exporter": "python",
   "pygments_lexer": "ipython3",
   "version": "3.5.2"
  }
 },
 "nbformat": 4,
 "nbformat_minor": 1
}
